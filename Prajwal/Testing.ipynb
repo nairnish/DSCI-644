{
 "cells": [
  {
   "cell_type": "code",
   "execution_count": 5,
   "metadata": {},
   "outputs": [],
   "source": [
    "import time\n",
    "import sys\n",
    "import pandas as pd\n",
    "from attempt_1 import my_model\n",
    "from sklearn.compose import ColumnTransformer\n",
    "from sklearn.feature_extraction.text import TfidfVectorizer\n",
    "from sklearn.model_selection import StratifiedKFold, train_test_split\n",
    "from sklearn.pipeline import Pipeline\n",
    "from sklearn.preprocessing import OneHotEncoder\n",
    "from sklearn import metrics\n",
    "\n",
    "sys.path.insert(0, '..')\n",
    "from my_evaluation import my_evaluation"
   ]
  },
  {
   "cell_type": "code",
   "execution_count": 6,
   "metadata": {},
   "outputs": [
    {
     "name": "stdout",
     "output_type": "stream",
     "text": [
      "F1 score: 0.259203\n",
      "0.02125941514968872\n"
     ]
    }
   ],
   "source": [
    "def test(data):\n",
    "    clf = my_model()\n",
    "    y = data[\"REFACTORINGS (LABELS)\"]\n",
    "    X = data.drop(['REFACTORINGS (LABELS)'], axis=1)\n",
    "\n",
    "    X_train, X_test, y_train, y_test = train_test_split(X, y, test_size=0.2, random_state=42)\n",
    "    clf.fit(X_train, y_train)\n",
    "    predictions = clf.predict(X_test)\n",
    "    f1 = metrics.f1_score(y_test, predictions, average='micro')\n",
    "    # eval = my_evaluation(predictions, y_test)\n",
    "    # f1 = eval.f1(target=1)\n",
    "    return f1\n",
    "\n",
    "\n",
    "if __name__ == \"__main__\":\n",
    "    start = time.time()\n",
    "    # Load data\n",
    "    data = pd.read_csv(\"/Users/prajwalkrishn/Desktop/My_Computer/dsci-644/project/DSCI-644/Prajwal/data_train.csv\")\n",
    "    # Replace missing values with empty strings\n",
    "    data = data.fillna(\"\")\n",
    "    f1 = test(data)\n",
    "    print(\"F1 score: %f\" % f1)\n",
    "    runtime = (time.time() - start) / 60.0\n",
    "    print(runtime)"
   ]
  },
  {
   "cell_type": "code",
   "execution_count": null,
   "metadata": {},
   "outputs": [],
   "source": []
  }
 ],
 "metadata": {
  "kernelspec": {
   "display_name": "Python 3",
   "language": "python",
   "name": "python3"
  },
  "language_info": {
   "codemirror_mode": {
    "name": "ipython",
    "version": 3
   },
   "file_extension": ".py",
   "mimetype": "text/x-python",
   "name": "python",
   "nbconvert_exporter": "python",
   "pygments_lexer": "ipython3",
   "version": "3.8.5"
  }
 },
 "nbformat": 4,
 "nbformat_minor": 4
}
